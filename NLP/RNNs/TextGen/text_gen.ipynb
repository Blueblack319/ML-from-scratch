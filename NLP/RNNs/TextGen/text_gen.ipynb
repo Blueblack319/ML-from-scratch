{
 "cells": [
  {
   "cell_type": "code",
   "execution_count": 4,
   "metadata": {},
   "outputs": [
    {
     "name": "stdout",
     "output_type": "stream",
     "text": [
      "Using cpu device\n"
     ]
    }
   ],
   "source": [
    "import torch\n",
    "import torch.nn as nn\n",
    "import torch.optim as optim\n",
    "from torch.utils.data import DataLoader, Dataset\n",
    "import random\n",
    "\n",
    "device = 'cuda' if torch.cuda.is_available() else 'cpu'\n",
    "print(f\"Using {device} device\")"
   ]
  },
  {
   "attachments": {},
   "cell_type": "markdown",
   "metadata": {},
   "source": [
    "# Data preparation"
   ]
  },
  {
   "cell_type": "code",
   "execution_count": 5,
   "metadata": {},
   "outputs": [],
   "source": [
    "class TextDataset(Dataset):\n",
    "    # TODO: Methods: __init__, __len__, __genitem__, str_to_vec, vec_to_str\n",
    "    # TODO: Attributes: chars(list), seq_size(int), char_to_idx(dict), idx_to_char(dict), voca_size(int), data_size(int) \n",
    "\n",
    "    # input: data, seq_size\n",
    "    def __init__(self, data: str, seq_size: int = 25) -> None:\n",
    "        self.chars = sorted(list(set(data)))\n",
    "        self.seq_size = seq_size\n",
    "        self.char_to_idx = {c: i for i, c in enumerate(self.chars)}\n",
    "        self.idx_to_char = {i: c for i, c in enumerate(self.chars)}\n",
    "        self.voca_size = len(self.chars)\n",
    "        self.data_size = len(data)\n",
    "        self.X = self.str_to_vec(data)\n",
    "\n",
    "    def __len__(self) -> int:\n",
    "        return int(len(self.X) / self.seq_size - 1)\n",
    "\n",
    "    def __getitem__(self, index: int) -> tuple[torch.Tensor, torch.Tensor]:\n",
    "        start = index * self.seq_size\n",
    "        end = (index + 1) * self.seq_size\n",
    "\n",
    "        X = torch.tensor(self.X[start: end]).float()\n",
    "        y = torch.tensor(self.X[start+1 : end+1]).float()\n",
    "\n",
    "        return X, y\n",
    "\n",
    "    def str_to_vec(self, line: str) -> list[int]:\n",
    "        return [self.char_to_idx[l] for l in line]\n",
    "    \n",
    "    def vec_to_str(self, vec: list[int]) -> str:\n",
    "        line = \"\"\n",
    "        for v in vec:\n",
    "            line += self.idx_to_char[v]\n",
    "        return line"
   ]
  },
  {
   "attachments": {},
   "cell_type": "markdown",
   "metadata": {},
   "source": [
    "# Model definition"
   ]
  },
  {
   "cell_type": "code",
   "execution_count": 6,
   "metadata": {},
   "outputs": [],
   "source": [
    "class RNN(nn.Module):\n",
    "    # Attributes: input_size, hidden_size, output_size, W_hx, W_hh, batch_size\n",
    "    def __init__(self, input_size: int, hidden_size: int, output_size: int, batch_size: int) -> None:\n",
    "        super(RNN, self).__init__()\n",
    "        self.input_size = input_size\n",
    "        self.hidden_size = hidden_size\n",
    "        self.output_size = output_size\n",
    "        self.batch_size = batch_size\n",
    "\n",
    "        self.W_hx = nn.Linear(self.input_size, self.hidden_size, bias=False)\n",
    "        self.W_hh = nn.Linear(self.hidden_size, self.hidden_size)\n",
    "        self.W_oh = nn.Linear(self.hidden_size, self.output_size)\n",
    "\n",
    "\n",
    "    # def forward(self, X: torch.Tensor, hidden: torch.Tensor) -> tuple[torch.Tensor, torch.Tensor]:\n",
    "    def forward(self, X: torch.Tensor, hidden: torch.Tensor):\n",
    "        W_hx_x = self.W_hx(X)\n",
    "        hidden = self.W_hh(hidden)\n",
    "        hidden = torch.tanh(W_hx_x + hidden)\n",
    "        output = self.W_oh(hidden)\n",
    "        \n",
    "        return output, hidden\n",
    "\n",
    "    def init_hidden(self, batch_size: int = 1) -> torch.Tensor:\n",
    "        return torch.zeros([batch_size, self.hidden_size], requires_grad=False).float()"
   ]
  },
  {
   "cell_type": "code",
   "execution_count": 7,
   "metadata": {},
   "outputs": [],
   "source": [
    "class LSTM(nn.Module):\n",
    "    def __init__(self, input_size: int, hidden_size: int, output_size: int, batch_size: int) -> None:\n",
    "        super(LSTM, self).__init__()\n",
    "        self.input_size = input_size\n",
    "        self.hidden_size = hidden_size\n",
    "        self.output_size = output_size\n",
    "        self.batch_size = batch_size\n",
    "\n",
    "        self.W_f = nn.Linear(hidden_size, hidden_size)\n",
    "        self.U_f = nn.Linear(input_size, hidden_size)\n",
    "        self.W_i = nn.Linear(hidden_size, hidden_size)\n",
    "        self.U_i = nn.Linear(input_size, hidden_size)\n",
    "        self.W_o = nn.Linear(hidden_size, hidden_size)\n",
    "        self.U_o = nn.Linear(input_size, hidden_size)\n",
    "        self.W_c = nn.Linear(hidden_size, hidden_size)\n",
    "        self.U_c = nn.Linear(input_size, hidden_size)\n",
    "        self.W_oh = nn.Linear(hidden_size, output_size)\n",
    "\n",
    "        self.sigmoid = nn.Sigmoid()\n",
    "        self.tanh = nn.Tanh()\n",
    "        \n",
    "    def forward(self, X: torch.Tensor, hidden: torch.Tensor, cell: torch.Tensor) -> tuple[torch.Tensor, torch.Tensor, torch.Tensor]:\n",
    "        forget_gate = self.sigmoid(self.W_f(hidden) + self.U_f(X))\n",
    "        input_gate = self.sigmoid(self.W_i(hidden) + self.U_i(X))\n",
    "        output_gate = self.sigmoid(self.W_o(hidden) + self.U_o(X))\n",
    "\n",
    "        new_content = self.tanh(self.W_c(hidden) + self.U_c(X))\n",
    "        cell = torch.mul(forget_gate, cell) + torch.mul(input_gate, new_content)\n",
    "        hidden = self.tanh(torch.mul(output_gate, cell))\n",
    "        output = self.W_oh(hidden)\n",
    "        return output, hidden, cell\n",
    "        \n",
    "    def init_states(self, batch_size: int = 1) -> tuple[torch.Tensor, torch.Tensor]:\n",
    "        return torch.zeros([batch_size, self.hidden_size], requires_grad=False).float(), torch.zeros([batch_size, self.hidden_size], requires_grad=False).float()\n"
   ]
  },
  {
   "attachments": {},
   "cell_type": "markdown",
   "metadata": {},
   "source": [
    "# Set up training "
   ]
  },
  {
   "cell_type": "code",
   "execution_count": 8,
   "metadata": {},
   "outputs": [],
   "source": [
    "# generate text\n",
    "# input: model, dataset, prediction_length\n",
    "def generate_random_text(model: LSTM, dataset: TextDataset, prediction_length: int = 100) -> str:\n",
    "    model.eval()\n",
    "    prediction = dataset.vec_to_str([random.randint(0, len(dataset.chars)-1)])\n",
    "    hidden, cell = model.init_states()\n",
    "\n",
    "    for _ in range(prediction_length):\n",
    "        last_char = torch.tensor([dataset.char_to_idx[prediction[-1]]]).float()\n",
    "        X, hidden, cell = last_char.to(device), hidden.to(device), cell.to(device)\n",
    "        output, hidden, cell = model(X, hidden, cell)\n",
    "        result = torch.multinomial(nn.functional.softmax(output, 1), 1).item()\n",
    "        prediction += dataset.idx_to_char[result]\n",
    "    return prediction"
   ]
  },
  {
   "cell_type": "code",
   "execution_count": 11,
   "metadata": {},
   "outputs": [],
   "source": [
    "# train\n",
    "def train(model: RNN, optimizer: torch.optim, criterion: nn.Module, epochs: int, dataloader: DataLoader) -> None:\n",
    "    train_losses = {}\n",
    "    model.to(device)\n",
    "    model.train()\n",
    "\n",
    "    print(\"Traning Start!!\")\n",
    "    for epoch in range(epochs):\n",
    "        epoch_losses = list()\n",
    "        for X, Y in dataloader:\n",
    "            # skip batch if it doesnt match with the batch_size\n",
    "            if X.shape[0] != model.batch_size:\n",
    "                continue\n",
    "            hidden, cell = model.init_states(batch_size=model.batch_size)\n",
    "\n",
    "            # send tensors to device\n",
    "            X, Y, hidden, cell = X.to(device), Y.to(device), hidden.to(device), cell.to(device)\n",
    "\n",
    "            # 2. clear gradients\n",
    "            model.zero_grad()\n",
    "\n",
    "            loss = 0\n",
    "            for c in range(X.shape[1]):\n",
    "                out, hidden, cell = model(X[:, c].reshape(X.shape[0], 1), hidden, cell)\n",
    "                l = criterion(out, Y[:, c].long())\n",
    "                loss += l\n",
    "\n",
    "            # 4. Compte gradients gradients\n",
    "            loss.backward()\n",
    "\n",
    "            # 5. Adjust learnable parameters\n",
    "            # clip as well to avoid vanishing and exploding gradients\n",
    "            nn.utils.clip_grad_norm_(model.parameters(), 3)\n",
    "            optimizer.step()\n",
    "\n",
    "            epoch_losses.append(loss.detach().item() / X.shape[1])\n",
    "        train_losses[epoch] = torch.tensor(epoch_losses).mean()\n",
    "        print(f'=> Epoch: {epoch+1}, loss: {train_losses[epoch]}')\n",
    "        print(generate_random_text(model, dataloader.dataset))"
   ]
  },
  {
   "cell_type": "code",
   "execution_count": 12,
   "metadata": {},
   "outputs": [
    {
     "name": "stdout",
     "output_type": "stream",
     "text": [
      "Traning Start!!\n",
      "=> Epoch: 1, loss: 2.6857969760894775\n"
     ]
    },
    {
     "ename": "TypeError",
     "evalue": "forward() missing 1 required positional argument: 'cell'",
     "output_type": "error",
     "traceback": [
      "\u001b[0;31m---------------------------------------------------------------------------\u001b[0m",
      "\u001b[0;31mTypeError\u001b[0m                                 Traceback (most recent call last)",
      "Cell \u001b[0;32mIn[12], line 16\u001b[0m\n\u001b[1;32m     14\u001b[0m criterion \u001b[39m=\u001b[39m nn\u001b[39m.\u001b[39mCrossEntropyLoss()\n\u001b[1;32m     15\u001b[0m optimizer \u001b[39m=\u001b[39m optim\u001b[39m.\u001b[39mRMSprop(LSTM_model\u001b[39m.\u001b[39mparameters(), lr\u001b[39m=\u001b[39m\u001b[39m0.001\u001b[39m)\n\u001b[0;32m---> 16\u001b[0m train(LSTM_model, optimizer, criterion, epochs\u001b[39m=\u001b[39;49mepochs, dataloader\u001b[39m=\u001b[39;49mdataloader)\n",
      "Cell \u001b[0;32mIn[11], line 39\u001b[0m, in \u001b[0;36mtrain\u001b[0;34m(model, optimizer, criterion, epochs, dataloader)\u001b[0m\n\u001b[1;32m     37\u001b[0m train_losses[epoch] \u001b[39m=\u001b[39m torch\u001b[39m.\u001b[39mtensor(epoch_losses)\u001b[39m.\u001b[39mmean()\n\u001b[1;32m     38\u001b[0m \u001b[39mprint\u001b[39m(\u001b[39mf\u001b[39m\u001b[39m'\u001b[39m\u001b[39m=> Epoch: \u001b[39m\u001b[39m{\u001b[39;00mepoch\u001b[39m+\u001b[39m\u001b[39m1\u001b[39m\u001b[39m}\u001b[39;00m\u001b[39m, loss: \u001b[39m\u001b[39m{\u001b[39;00mtrain_losses[epoch]\u001b[39m}\u001b[39;00m\u001b[39m'\u001b[39m)\n\u001b[0;32m---> 39\u001b[0m \u001b[39mprint\u001b[39m(generate_random_text(model, dataloader\u001b[39m.\u001b[39;49mdataset))\n",
      "Cell \u001b[0;32mIn[8], line 11\u001b[0m, in \u001b[0;36mgenerate_random_text\u001b[0;34m(model, dataset, prediction_length)\u001b[0m\n\u001b[1;32m      9\u001b[0m last_char \u001b[39m=\u001b[39m torch\u001b[39m.\u001b[39mtensor([dataset\u001b[39m.\u001b[39mchar_to_idx[prediction[\u001b[39m-\u001b[39m\u001b[39m1\u001b[39m]]])\u001b[39m.\u001b[39mfloat()\n\u001b[1;32m     10\u001b[0m X, hidden \u001b[39m=\u001b[39m last_char\u001b[39m.\u001b[39mto(device), hidden\u001b[39m.\u001b[39mto(device)\n\u001b[0;32m---> 11\u001b[0m output, hidden \u001b[39m=\u001b[39m model(X, hidden)\n\u001b[1;32m     12\u001b[0m result \u001b[39m=\u001b[39m torch\u001b[39m.\u001b[39mmultinomial(nn\u001b[39m.\u001b[39mfunctional\u001b[39m.\u001b[39msoftmax(output, \u001b[39m1\u001b[39m), \u001b[39m1\u001b[39m)\u001b[39m.\u001b[39mitem()\n\u001b[1;32m     13\u001b[0m prediction \u001b[39m+\u001b[39m\u001b[39m=\u001b[39m dataset\u001b[39m.\u001b[39midx_to_char[result]\n",
      "File \u001b[0;32m~/anaconda3/envs/ml-from-scratch/lib/python3.9/site-packages/torch/nn/modules/module.py:1194\u001b[0m, in \u001b[0;36mModule._call_impl\u001b[0;34m(self, *input, **kwargs)\u001b[0m\n\u001b[1;32m   1190\u001b[0m \u001b[39m# If we don't have any hooks, we want to skip the rest of the logic in\u001b[39;00m\n\u001b[1;32m   1191\u001b[0m \u001b[39m# this function, and just call forward.\u001b[39;00m\n\u001b[1;32m   1192\u001b[0m \u001b[39mif\u001b[39;00m \u001b[39mnot\u001b[39;00m (\u001b[39mself\u001b[39m\u001b[39m.\u001b[39m_backward_hooks \u001b[39mor\u001b[39;00m \u001b[39mself\u001b[39m\u001b[39m.\u001b[39m_forward_hooks \u001b[39mor\u001b[39;00m \u001b[39mself\u001b[39m\u001b[39m.\u001b[39m_forward_pre_hooks \u001b[39mor\u001b[39;00m _global_backward_hooks\n\u001b[1;32m   1193\u001b[0m         \u001b[39mor\u001b[39;00m _global_forward_hooks \u001b[39mor\u001b[39;00m _global_forward_pre_hooks):\n\u001b[0;32m-> 1194\u001b[0m     \u001b[39mreturn\u001b[39;00m forward_call(\u001b[39m*\u001b[39;49m\u001b[39minput\u001b[39;49m, \u001b[39m*\u001b[39;49m\u001b[39m*\u001b[39;49mkwargs)\n\u001b[1;32m   1195\u001b[0m \u001b[39m# Do not call functions when jit is used\u001b[39;00m\n\u001b[1;32m   1196\u001b[0m full_backward_hooks, non_full_backward_hooks \u001b[39m=\u001b[39m [], []\n",
      "\u001b[0;31mTypeError\u001b[0m: forward() missing 1 required positional argument: 'cell'"
     ]
    }
   ],
   "source": [
    "# training\n",
    "data = open('dataset/Book1.txt', 'r').read()\n",
    "data = data.lower()\n",
    "\n",
    "seq_size = 30\n",
    "batch_size = 64\n",
    "text_data = TextDataset(data, seq_size)\n",
    "dataloader = DataLoader(text_data, batch_size)\n",
    "\n",
    "hidden_size = 256\n",
    "LSTM_model = LSTM(1, hidden_size, output_size=text_data.voca_size, batch_size=batch_size)\n",
    "\n",
    "epochs = 1000\n",
    "criterion = nn.CrossEntropyLoss()\n",
    "optimizer = optim.RMSprop(LSTM_model.parameters(), lr=0.001)\n",
    "train(LSTM_model, optimizer, criterion, epochs=epochs, dataloader=dataloader)"
   ]
  }
 ],
 "metadata": {
  "kernelspec": {
   "display_name": "ml-from-scratch",
   "language": "python",
   "name": "python3"
  },
  "language_info": {
   "codemirror_mode": {
    "name": "ipython",
    "version": 3
   },
   "file_extension": ".py",
   "mimetype": "text/x-python",
   "name": "python",
   "nbconvert_exporter": "python",
   "pygments_lexer": "ipython3",
   "version": "3.9.15"
  },
  "orig_nbformat": 4,
  "vscode": {
   "interpreter": {
    "hash": "a14a072c1d04b8e5231fb046f2e283cd5de3e391310c0d954d0cb96765eec511"
   }
  }
 },
 "nbformat": 4,
 "nbformat_minor": 2
}
