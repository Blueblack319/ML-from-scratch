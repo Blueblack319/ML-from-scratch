{
 "cells": [
  {
   "attachments": {},
   "cell_type": "markdown",
   "metadata": {},
   "source": [
    "# Get dataset"
   ]
  },
  {
   "cell_type": "code",
   "execution_count": 13,
   "metadata": {},
   "outputs": [],
   "source": [
    "import os\n",
    "import glob\n",
    "import string\n",
    "import unicodedata\n"
   ]
  },
  {
   "cell_type": "code",
   "execution_count": 14,
   "metadata": {},
   "outputs": [],
   "source": [
    "\n",
    "\n",
    "all_letters = string.ascii_letters + \".;,'\"\n",
    "n_letters = len(all_letters)\n",
    "\n",
    "def findFiles(path) -> list:\n",
    "    return glob.glob(path)\n",
    "\n",
    "def unicodeToAscii(s):\n",
    "    return ''.join(\n",
    "        c for c in unicodedata.normalize('NFD', s)\n",
    "        if unicodedata.category(c) != 'Mn'\n",
    "        and c in all_letters\n",
    "    )\n",
    "    \n",
    "def extract_from_file(path):\n",
    "    f = open(path, 'r', encoding='utf-8')\n",
    "    names = f.read().strip().split('\\n')\n",
    "    return names\n"
   ]
  },
  {
   "cell_type": "code",
   "execution_count": 15,
   "metadata": {},
   "outputs": [],
   "source": [
    "category_lines = {}\n",
    "all_categories = []\n",
    "\n",
    "file_pathes = findFiles('data/names/*.txt')\n",
    "for path in file_pathes:\n",
    "    category = os.path.splitext(os.path.basename(path))[0]\n",
    "    all_categories.append(category)\n",
    "    lines = extract_from_file(path)\n",
    "    category_lines[category] = lines\n",
    "n_categories = len(all_categories)\n",
    "\n"
   ]
  },
  {
   "cell_type": "code",
   "execution_count": 16,
   "metadata": {},
   "outputs": [
    {
     "data": {
      "text/plain": [
       "['Polish',\n",
       " 'Spanish',\n",
       " 'English',\n",
       " 'Irish',\n",
       " 'German',\n",
       " 'Chinese',\n",
       " 'Greek',\n",
       " 'Italian',\n",
       " 'Vietnamese',\n",
       " 'Czech',\n",
       " 'Korean',\n",
       " 'French',\n",
       " 'Dutch',\n",
       " 'Arabic',\n",
       " 'Scottish',\n",
       " 'Portuguese',\n",
       " 'Japanese',\n",
       " 'Russian']"
      ]
     },
     "execution_count": 16,
     "metadata": {},
     "output_type": "execute_result"
    }
   ],
   "source": [
    "all_categories"
   ]
  },
  {
   "cell_type": "code",
   "execution_count": 17,
   "metadata": {},
   "outputs": [
    {
     "name": "stdout",
     "output_type": "stream",
     "text": [
      "Polish: 139\n",
      "Spanish: 298\n",
      "English: 3668\n",
      "Irish: 232\n",
      "German: 724\n",
      "Chinese: 268\n",
      "Greek: 203\n",
      "Italian: 709\n",
      "Vietnamese: 73\n",
      "Czech: 519\n",
      "Korean: 94\n",
      "French: 277\n",
      "Dutch: 297\n",
      "Arabic: 2000\n",
      "Scottish: 100\n",
      "Portuguese: 74\n",
      "Japanese: 991\n",
      "Russian: 9408\n"
     ]
    }
   ],
   "source": [
    "for key, value in category_lines.items():\n",
    "    print(f'{key}: {len(value)}')"
   ]
  },
  {
   "attachments": {},
   "cell_type": "markdown",
   "metadata": {},
   "source": [
    "# Turning Names into Tensors"
   ]
  },
  {
   "cell_type": "code",
   "execution_count": 18,
   "metadata": {},
   "outputs": [],
   "source": [
    "import torch\n",
    "\n",
    "timesteps = 1\n",
    "\n",
    "def letterToIndex(letter) -> int:\n",
    "    return all_letters.find(letter)\n",
    "\n",
    "# output: <1 x n_letters>\n",
    "def letterToTensor(letter) -> torch.Tensor:\n",
    "    tensor = torch.zeros(1, n_letters)\n",
    "    tensor[0][letterToIndex(letter)] = 1\n",
    "    return tensor\n",
    "\n",
    "# output: <line length x 1 x n_letters> <=> (timesteps, batch size, feature size)\n",
    "def lineToTensor(line) -> torch.Tensor:\n",
    "    tensor = torch.zeros(len(line), timesteps, n_letters)\n",
    "    for idx, letter in enumerate(line):\n",
    "        tensor[idx][0][letterToIndex(letter)] = 1\n",
    "    return tensor\n",
    "\n"
   ]
  },
  {
   "cell_type": "code",
   "execution_count": 19,
   "metadata": {},
   "outputs": [],
   "source": [
    "\n",
    "tensor_line = lineToTensor('letter')"
   ]
  },
  {
   "cell_type": "code",
   "execution_count": 20,
   "metadata": {},
   "outputs": [
    {
     "name": "stdout",
     "output_type": "stream",
     "text": [
      "torch.Size([6, 1, 56])\n"
     ]
    },
    {
     "data": {
      "text/plain": [
       "tensor([[[0., 0., 0., 0., 0., 0., 0., 0., 0., 0., 0., 1., 0., 0., 0., 0., 0.,\n",
       "          0., 0., 0., 0., 0., 0., 0., 0., 0., 0., 0., 0., 0., 0., 0., 0., 0.,\n",
       "          0., 0., 0., 0., 0., 0., 0., 0., 0., 0., 0., 0., 0., 0., 0., 0., 0.,\n",
       "          0., 0., 0., 0., 0.]],\n",
       "\n",
       "        [[0., 0., 0., 0., 1., 0., 0., 0., 0., 0., 0., 0., 0., 0., 0., 0., 0.,\n",
       "          0., 0., 0., 0., 0., 0., 0., 0., 0., 0., 0., 0., 0., 0., 0., 0., 0.,\n",
       "          0., 0., 0., 0., 0., 0., 0., 0., 0., 0., 0., 0., 0., 0., 0., 0., 0.,\n",
       "          0., 0., 0., 0., 0.]],\n",
       "\n",
       "        [[0., 0., 0., 0., 0., 0., 0., 0., 0., 0., 0., 0., 0., 0., 0., 0., 0.,\n",
       "          0., 0., 1., 0., 0., 0., 0., 0., 0., 0., 0., 0., 0., 0., 0., 0., 0.,\n",
       "          0., 0., 0., 0., 0., 0., 0., 0., 0., 0., 0., 0., 0., 0., 0., 0., 0.,\n",
       "          0., 0., 0., 0., 0.]],\n",
       "\n",
       "        [[0., 0., 0., 0., 0., 0., 0., 0., 0., 0., 0., 0., 0., 0., 0., 0., 0.,\n",
       "          0., 0., 1., 0., 0., 0., 0., 0., 0., 0., 0., 0., 0., 0., 0., 0., 0.,\n",
       "          0., 0., 0., 0., 0., 0., 0., 0., 0., 0., 0., 0., 0., 0., 0., 0., 0.,\n",
       "          0., 0., 0., 0., 0.]],\n",
       "\n",
       "        [[0., 0., 0., 0., 1., 0., 0., 0., 0., 0., 0., 0., 0., 0., 0., 0., 0.,\n",
       "          0., 0., 0., 0., 0., 0., 0., 0., 0., 0., 0., 0., 0., 0., 0., 0., 0.,\n",
       "          0., 0., 0., 0., 0., 0., 0., 0., 0., 0., 0., 0., 0., 0., 0., 0., 0.,\n",
       "          0., 0., 0., 0., 0.]],\n",
       "\n",
       "        [[0., 0., 0., 0., 0., 0., 0., 0., 0., 0., 0., 0., 0., 0., 0., 0., 0.,\n",
       "          1., 0., 0., 0., 0., 0., 0., 0., 0., 0., 0., 0., 0., 0., 0., 0., 0.,\n",
       "          0., 0., 0., 0., 0., 0., 0., 0., 0., 0., 0., 0., 0., 0., 0., 0., 0.,\n",
       "          0., 0., 0., 0., 0.]]])"
      ]
     },
     "execution_count": 20,
     "metadata": {},
     "output_type": "execute_result"
    }
   ],
   "source": [
    "print(tensor_line.shape)\n",
    "tensor_line"
   ]
  },
  {
   "cell_type": "code",
   "execution_count": 34,
   "metadata": {},
   "outputs": [],
   "source": [
    "import torch.nn as nn\n",
    "from model import RNNFromScratch\n",
    "\n",
    "n_hidden = 128\n",
    "\n",
    "# class ClassifierRNNs(nn.Module):\n",
    "#     def __init__(self, input_size, hidden_size, output_size):\n",
    "#         super(ClassifierRNNs, self).__init__()\n",
    "\n",
    "#         self.hidden_size = hidden_size\n",
    "#         self.W_hx = nn.Linear(input_size, hidden_size)\n",
    "#         self.W_hh = nn.Linear(hidden_size, hidden_size)\n",
    "#         self.W_oh = nn.Linear(hidden_size, output_size)\n",
    "#         self.softmax = nn.LogSoftmax(dim=1)\n",
    "    \n",
    "#     def forward(self, input, hidden):\n",
    "#         W_hx_x = self.W_hx(input)\n",
    "#         hidden = self.W_hh(hidden + W_hx_x)\n",
    "#         output = self.W_oh(hidden)\n",
    "#         y_hat = self.softmax(output)\n",
    "\n",
    "#         return y_hat, hidden\n",
    "    \n",
    "#     def initHidden(self):\n",
    "#         return torch.zeros(1, self.hidden_size)\n",
    "\n",
    "rnn = RNNFromScratch(input_size=n_letters, hidden_size=n_hidden, output_size=n_categories)"
   ]
  },
  {
   "cell_type": "code",
   "execution_count": 32,
   "metadata": {},
   "outputs": [],
   "source": [
    "input_line = lineToTensor('Aiden')\n",
    "hidden = torch.zeros(1, n_hidden)\n",
    "# 만약 맡에 코드처럼 input_line[0] 이렇게 안 하고 즉 batch size=1로 하지 않고 batch size=line length로 하면 hidden은 어떻게 update?\n",
    "# hidden states가 여러개 생성되며 tensor로 관리된다.\n",
    "y_hat, next_line_hidden = rnn(input_line, hidden)"
   ]
  },
  {
   "cell_type": "code",
   "execution_count": 33,
   "metadata": {},
   "outputs": [
    {
     "data": {
      "text/plain": [
       "tensor([[[0., 0., 0., 0., 0., 0., 0., 0., 0., 0., 0., 0., 0., 0., 0., 0., 0., 0.]],\n",
       "\n",
       "        [[0., 0., 0., 0., 0., 0., 0., 0., 0., 0., 0., 0., 0., 0., 0., 0., 0., 0.]],\n",
       "\n",
       "        [[0., 0., 0., 0., 0., 0., 0., 0., 0., 0., 0., 0., 0., 0., 0., 0., 0., 0.]],\n",
       "\n",
       "        [[0., 0., 0., 0., 0., 0., 0., 0., 0., 0., 0., 0., 0., 0., 0., 0., 0., 0.]],\n",
       "\n",
       "        [[0., 0., 0., 0., 0., 0., 0., 0., 0., 0., 0., 0., 0., 0., 0., 0., 0., 0.]]],\n",
       "       grad_fn=<LogSoftmaxBackward0>)"
      ]
     },
     "execution_count": 33,
     "metadata": {},
     "output_type": "execute_result"
    }
   ],
   "source": [
    "y_hat"
   ]
  },
  {
   "cell_type": "code",
   "execution_count": 24,
   "metadata": {},
   "outputs": [],
   "source": [
    "def categoryFromOutput(output):\n",
    "    top_v, top_i = output.topk(1)\n",
    "    category_i = top_i.item()\n",
    "    category = all_categories[category_i]\n",
    "    return category, category_i"
   ]
  },
  {
   "cell_type": "code",
   "execution_count": 25,
   "metadata": {},
   "outputs": [],
   "source": [
    "import random\n",
    "\n",
    "def randomChoice(list):\n",
    "    return list[random.randint(0, len(list)-1)]\n",
    "\n",
    "def getTrainingExample():\n",
    "    category = randomChoice(all_categories)\n",
    "    line = randomChoice(category_lines[category])\n",
    "    category_tensor = torch.tensor([all_categories.index(category)], dtype=torch.long)\n",
    "    line_tensor = lineToTensor(line)\n",
    "    return category, line, category_tensor, line_tensor"
   ]
  },
  {
   "cell_type": "code",
   "execution_count": 26,
   "metadata": {},
   "outputs": [
    {
     "name": "stdout",
     "output_type": "stream",
     "text": [
      "Category: Greek / Line: Theohari / category tensor: tensor([6])\n",
      "Category: French / Line: Cloutier / category tensor: tensor([11])\n",
      "Category: Chinese / Line: Tian / category tensor: tensor([5])\n",
      "Category: Dutch / Line: Veen / category tensor: tensor([12])\n",
      "Category: German / Line: Wedekind / category tensor: tensor([4])\n",
      "Category: Korean / Line: Hwang / category tensor: tensor([10])\n",
      "Category: Chinese / Line: Cui / category tensor: tensor([5])\n",
      "Category: Polish / Line: Szwarc / category tensor: tensor([0])\n",
      "Category: Chinese / Line: Chao / category tensor: tensor([5])\n",
      "Category: Chinese / Line: Hor / category tensor: tensor([5])\n"
     ]
    }
   ],
   "source": [
    "for _ in range(10):\n",
    "    category, line, category_tensor, line_tensor = getTrainingExample()\n",
    "    print(f\"Category: {category} / Line: {line} / category tensor: {category_tensor}\")"
   ]
  },
  {
   "cell_type": "code",
   "execution_count": 27,
   "metadata": {},
   "outputs": [],
   "source": [
    "model = RNNFromScratch(input_size=n_letters, hidden_size=n_hidden, output_size=n_categories)\n",
    "criterion = nn.NLLLoss()\n",
    "optimizer = torch.optim.Adam(model.parameters(), lr=0.005)\n",
    "scheduler = torch.optim.lr_scheduler.StepLR(optimizer, step_size=2000, gamma=0.5)\n",
    "\n",
    "def train(line_tensor, category_tensor):\n",
    "    hidden = model.initHidden()\n",
    "    model.zero_grad()\n",
    "\n",
    "    for i in range(line_tensor.size()[0]):\n",
    "        output, hidden = model(line_tensor[i], hidden)\n",
    "    \n",
    "    loss = criterion(output, category_tensor)\n",
    "    loss.backward()\n",
    "    optimizer.step()\n",
    "    scheduler.step()\n",
    "\n",
    "    # for p in model.parameters():\n",
    "    #     p.data.add_(p.grad.data, alpha=-learning_rate)\n",
    "    \n",
    "    return output, loss.item() # number"
   ]
  },
  {
   "cell_type": "code",
   "execution_count": 28,
   "metadata": {},
   "outputs": [],
   "source": [
    "import time\n",
    "import math\n",
    "\n",
    "epochs = 100000\n",
    "every_print = 5000\n",
    "every_plot = 1000\n",
    "\n",
    "def timeSince(since) -> string:\n",
    "    now = time.time()\n",
    "    duration = now - since\n",
    "    minute = math.floor(duration / 60)\n",
    "    sec = duration - minute * 60\n",
    "\n",
    "    return '{} : {}'.format(minute, math.floor(sec))\n"
   ]
  },
  {
   "cell_type": "code",
   "execution_count": 29,
   "metadata": {},
   "outputs": [
    {
     "name": "stdout",
     "output_type": "stream",
     "text": [
      "0 0% (0 : 0) 2.7700 Gentile / Czech ✗ (Italian)\n",
      "5000 5% (0 : 9) 293.0579 Furlan / Dutch ✗ (Italian)\n",
      "10000 10% (0 : 18) 41847.3789 Amalberti / Irish ✗ (Italian)\n",
      "15000 15% (0 : 31) 5129.9390 Davidson / Portuguese ✗ (Scottish)\n",
      "20000 20% (0 : 46) 22.4117 Gim / Dutch ✗ (Chinese)\n",
      "25000 25% (0 : 58) 4.0269 Joe / Vietnamese ✗ (Chinese)\n",
      "30000 30% (1 : 14) 14443.3838 Cingolani / Greek ✗ (Italian)\n",
      "35000 35% (1 : 31) 229.7466 Simon / Polish ✗ (French)\n",
      "40000 40% (1 : 48) 5757.8540 Jakovchuk / Japanese ✗ (Russian)\n",
      "45000 45% (2 : 3) 1281185.8750 Giannakopoulos / Japanese ✗ (Greek)\n",
      "50000 50% (2 : 13) 6477.1934 Modugno / Portuguese ✗ (Italian)\n",
      "55000 55% (2 : 24) 19.4509 Górka / German ✗ (Polish)\n",
      "60000 60% (2 : 35) 219.2374 Soucek / Dutch ✗ (Czech)\n",
      "65000 65% (2 : 48) 1471.3115 Kaglantge / Japanese ✗ (Greek)\n",
      "70000 70% (3 : 2) 0.0000 Bhrighde / Irish ✓\n",
      "75000 75% (3 : 13) 871.9937 Colley / Portuguese ✗ (English)\n",
      "80000 80% (3 : 26) 161.9813 Jeon / Russian ✗ (Korean)\n",
      "85000 85% (3 : 39) 9549.9043 Murkami / Polish ✗ (Japanese)\n",
      "90000 90% (3 : 53) 17.8419 Rosa / Japanese ✗ (Spanish)\n",
      "95000 95% (4 : 5) 1549.7410 Rozinek / Polish ✗ (Czech)\n",
      "100000 100% (4 : 16) 14299.9316 Zdunowski / Irish ✗ (Polish)\n"
     ]
    }
   ],
   "source": [
    "all_losses = []\n",
    "current_loss = 0\n",
    "start = time.time()\n",
    "\n",
    "for epoch in range(epochs+1):\n",
    "    category, line, category_tensor, line_tensor = getTrainingExample()\n",
    "    \n",
    "    output, loss = train(line_tensor, category_tensor)\n",
    "    current_loss += loss\n",
    "\n",
    "    if epoch % every_print == 0:\n",
    "        guess, guess_i = categoryFromOutput(output)\n",
    "        correct = '✓' if guess == category else '✗ (%s)' % category\n",
    "        print('%d %d%% (%s) %.4f %s / %s %s' % (epoch, epoch / epochs * 100, timeSince(start), loss, line, guess, correct))\n",
    "\n",
    "    if epoch % every_plot == 0:\n",
    "        all_losses.append(current_loss / every_plot)\n",
    "        current_loss = 0\n"
   ]
  },
  {
   "cell_type": "code",
   "execution_count": 30,
   "metadata": {},
   "outputs": [
    {
     "data": {
      "text/plain": [
       "[<matplotlib.lines.Line2D at 0x7fc4f205ef40>]"
      ]
     },
     "execution_count": 30,
     "metadata": {},
     "output_type": "execute_result"
    },
    {
     "data": {
      "image/png": "[encoded data removed]",
      "text/plain": [
       "<Figure size 640x480 with 1 Axes>"
      ]
     },
     "metadata": {},
     "output_type": "display_data"
    }
   ],
   "source": [
    "import matplotlib.pyplot as plt\n",
    "import matplotlib.ticker as ticker\n",
    "\n",
    "plt.figure()\n",
    "plt.plot(all_losses[1:])"
   ]
  }
 ],
 "metadata": {
  "kernelspec": {
   "display_name": "ml-from-scratch",
   "language": "python",
   "name": "python3"
  },
  "language_info": {
   "codemirror_mode": {
    "name": "ipython",
    "version": 3
   },
   "file_extension": ".py",
   "mimetype": "text/x-python",
   "name": "python",
   "nbconvert_exporter": "python",
   "pygments_lexer": "ipython3",
   "version": "3.9.15"
  },
  "orig_nbformat": 4,
  "vscode": {
   "interpreter": {
    "hash": "a14a072c1d04b8e5231fb046f2e283cd5de3e391310c0d954d0cb96765eec511"
   }
  }
 },
 "nbformat": 4,
 "nbformat_minor": 2
}
