{
 "cells": [
  {
   "attachments": {},
   "cell_type": "markdown",
   "metadata": {},
   "source": [
    "# Get dataset"
   ]
  },
  {
   "cell_type": "code",
   "execution_count": 37,
   "metadata": {},
   "outputs": [],
   "source": [
    "import os\n",
    "import glob\n",
    "import string\n",
    "import unicodedata\n"
   ]
  },
  {
   "cell_type": "code",
   "execution_count": 38,
   "metadata": {},
   "outputs": [],
   "source": [
    "\n",
    "\n",
    "all_letters = string.ascii_letters + \".;,'\"\n",
    "n_letters = len(all_letters)\n",
    "\n",
    "def findFiles(path) -> list:\n",
    "    return glob.glob(path)\n",
    "\n",
    "def unicodeToAscii(s):\n",
    "    return ''.join(\n",
    "        c for c in unicodedata.normalize('NFD', s)\n",
    "        if unicodedata.category(c) != 'Mn'\n",
    "        and c in all_letters\n",
    "    )\n",
    "    \n",
    "def extract_from_file(path):\n",
    "    f = open(path, 'r', encoding='utf-8')\n",
    "    names = f.read().strip().split('\\n')\n",
    "    return names\n"
   ]
  },
  {
   "cell_type": "code",
   "execution_count": 39,
   "metadata": {},
   "outputs": [],
   "source": [
    "category_lines = {}\n",
    "all_categories = []\n",
    "\n",
    "file_pathes = findFiles('data/names/*.txt')\n",
    "for path in file_pathes:\n",
    "    category = os.path.splitext(os.path.basename(path))[0]\n",
    "    all_categories.append(category)\n",
    "    lines = extract_from_file(path)\n",
    "    category_lines[category] = lines\n",
    "n_categories = len(all_categories)\n",
    "\n"
   ]
  },
  {
   "cell_type": "code",
   "execution_count": 40,
   "metadata": {},
   "outputs": [
    {
     "data": {
      "text/plain": [
       "['Polish',\n",
       " 'Spanish',\n",
       " 'English',\n",
       " 'Irish',\n",
       " 'German',\n",
       " 'Chinese',\n",
       " 'Greek',\n",
       " 'Italian',\n",
       " 'Vietnamese',\n",
       " 'Czech',\n",
       " 'Korean',\n",
       " 'French',\n",
       " 'Dutch',\n",
       " 'Arabic',\n",
       " 'Scottish',\n",
       " 'Portuguese',\n",
       " 'Japanese',\n",
       " 'Russian']"
      ]
     },
     "execution_count": 40,
     "metadata": {},
     "output_type": "execute_result"
    }
   ],
   "source": [
    "all_categories"
   ]
  },
  {
   "cell_type": "code",
   "execution_count": 41,
   "metadata": {},
   "outputs": [
    {
     "name": "stdout",
     "output_type": "stream",
     "text": [
      "Polish: 139\n",
      "Spanish: 298\n",
      "English: 3668\n",
      "Irish: 232\n",
      "German: 724\n",
      "Chinese: 268\n",
      "Greek: 203\n",
      "Italian: 709\n",
      "Vietnamese: 73\n",
      "Czech: 519\n",
      "Korean: 94\n",
      "French: 277\n",
      "Dutch: 297\n",
      "Arabic: 2000\n",
      "Scottish: 100\n",
      "Portuguese: 74\n",
      "Japanese: 991\n",
      "Russian: 9408\n"
     ]
    }
   ],
   "source": [
    "for key, value in category_lines.items():\n",
    "    print(f'{key}: {len(value)}')"
   ]
  },
  {
   "attachments": {},
   "cell_type": "markdown",
   "metadata": {},
   "source": [
    "# Turning Names into Tensors"
   ]
  },
  {
   "cell_type": "code",
   "execution_count": 42,
   "metadata": {},
   "outputs": [],
   "source": [
    "import torch\n",
    "\n",
    "timesteps = 1\n",
    "\n",
    "def letterToIndex(letter) -> int:\n",
    "    return all_letters.find(letter)\n",
    "\n",
    "# output: <1 x n_letters>\n",
    "def letterToTensor(letter) -> torch.Tensor:\n",
    "    tensor = torch.zeros(1, n_letters)\n",
    "    tensor[0][letterToIndex(letter)] = 1\n",
    "    return tensor\n",
    "\n",
    "# output: <line length x 1 x n_letters> <=> (timesteps, batch size, feature size)\n",
    "def lineToTensor(line) -> torch.Tensor:\n",
    "    tensor = torch.zeros(len(line), timesteps, n_letters)\n",
    "    for idx, letter in enumerate(line):\n",
    "        tensor[idx][0][letterToIndex(letter)] = 1\n",
    "    return tensor\n",
    "\n"
   ]
  },
  {
   "cell_type": "code",
   "execution_count": 43,
   "metadata": {},
   "outputs": [],
   "source": [
    "\n",
    "tensor_line = lineToTensor('letter')"
   ]
  },
  {
   "cell_type": "code",
   "execution_count": 44,
   "metadata": {},
   "outputs": [
    {
     "name": "stdout",
     "output_type": "stream",
     "text": [
      "torch.Size([6, 1, 56])\n"
     ]
    },
    {
     "data": {
      "text/plain": [
       "tensor([[[0., 0., 0., 0., 0., 0., 0., 0., 0., 0., 0., 1., 0., 0., 0., 0., 0.,\n",
       "          0., 0., 0., 0., 0., 0., 0., 0., 0., 0., 0., 0., 0., 0., 0., 0., 0.,\n",
       "          0., 0., 0., 0., 0., 0., 0., 0., 0., 0., 0., 0., 0., 0., 0., 0., 0.,\n",
       "          0., 0., 0., 0., 0.]],\n",
       "\n",
       "        [[0., 0., 0., 0., 1., 0., 0., 0., 0., 0., 0., 0., 0., 0., 0., 0., 0.,\n",
       "          0., 0., 0., 0., 0., 0., 0., 0., 0., 0., 0., 0., 0., 0., 0., 0., 0.,\n",
       "          0., 0., 0., 0., 0., 0., 0., 0., 0., 0., 0., 0., 0., 0., 0., 0., 0.,\n",
       "          0., 0., 0., 0., 0.]],\n",
       "\n",
       "        [[0., 0., 0., 0., 0., 0., 0., 0., 0., 0., 0., 0., 0., 0., 0., 0., 0.,\n",
       "          0., 0., 1., 0., 0., 0., 0., 0., 0., 0., 0., 0., 0., 0., 0., 0., 0.,\n",
       "          0., 0., 0., 0., 0., 0., 0., 0., 0., 0., 0., 0., 0., 0., 0., 0., 0.,\n",
       "          0., 0., 0., 0., 0.]],\n",
       "\n",
       "        [[0., 0., 0., 0., 0., 0., 0., 0., 0., 0., 0., 0., 0., 0., 0., 0., 0.,\n",
       "          0., 0., 1., 0., 0., 0., 0., 0., 0., 0., 0., 0., 0., 0., 0., 0., 0.,\n",
       "          0., 0., 0., 0., 0., 0., 0., 0., 0., 0., 0., 0., 0., 0., 0., 0., 0.,\n",
       "          0., 0., 0., 0., 0.]],\n",
       "\n",
       "        [[0., 0., 0., 0., 1., 0., 0., 0., 0., 0., 0., 0., 0., 0., 0., 0., 0.,\n",
       "          0., 0., 0., 0., 0., 0., 0., 0., 0., 0., 0., 0., 0., 0., 0., 0., 0.,\n",
       "          0., 0., 0., 0., 0., 0., 0., 0., 0., 0., 0., 0., 0., 0., 0., 0., 0.,\n",
       "          0., 0., 0., 0., 0.]],\n",
       "\n",
       "        [[0., 0., 0., 0., 0., 0., 0., 0., 0., 0., 0., 0., 0., 0., 0., 0., 0.,\n",
       "          1., 0., 0., 0., 0., 0., 0., 0., 0., 0., 0., 0., 0., 0., 0., 0., 0.,\n",
       "          0., 0., 0., 0., 0., 0., 0., 0., 0., 0., 0., 0., 0., 0., 0., 0., 0.,\n",
       "          0., 0., 0., 0., 0.]]])"
      ]
     },
     "execution_count": 44,
     "metadata": {},
     "output_type": "execute_result"
    }
   ],
   "source": [
    "print(tensor_line.shape)\n",
    "tensor_line"
   ]
  },
  {
   "cell_type": "code",
   "execution_count": 45,
   "metadata": {},
   "outputs": [],
   "source": [
    "import torch.nn as nn\n",
    "from model import RNNFromScratch, RNNUsingModule\n",
    "\n",
    "n_hidden = 128\n",
    "\n",
    "rnn = RNNFromScratch(input_size=n_letters, hidden_size=n_hidden, output_size=n_categories)"
   ]
  },
  {
   "cell_type": "code",
   "execution_count": 46,
   "metadata": {},
   "outputs": [],
   "source": [
    "input_line = lineToTensor('Aiden')\n",
    "hidden = torch.zeros(1, n_hidden)\n",
    "# 만약 맡에 코드처럼 input_line[0] 이렇게 안 하고 즉 batch size=1로 하지 않고 batch size=line length로 하면 hidden은 어떻게 update?\n",
    "# hidden states가 여러개 생성되며 tensor로 관리된다.\n",
    "y_hat, next_line_hidden = rnn(input_line, hidden)"
   ]
  },
  {
   "cell_type": "code",
   "execution_count": 47,
   "metadata": {},
   "outputs": [
    {
     "data": {
      "text/plain": [
       "tensor([[[0., 0., 0., 0., 0., 0., 0., 0., 0., 0., 0., 0., 0., 0., 0., 0., 0., 0.]],\n",
       "\n",
       "        [[0., 0., 0., 0., 0., 0., 0., 0., 0., 0., 0., 0., 0., 0., 0., 0., 0., 0.]],\n",
       "\n",
       "        [[0., 0., 0., 0., 0., 0., 0., 0., 0., 0., 0., 0., 0., 0., 0., 0., 0., 0.]],\n",
       "\n",
       "        [[0., 0., 0., 0., 0., 0., 0., 0., 0., 0., 0., 0., 0., 0., 0., 0., 0., 0.]],\n",
       "\n",
       "        [[0., 0., 0., 0., 0., 0., 0., 0., 0., 0., 0., 0., 0., 0., 0., 0., 0., 0.]]],\n",
       "       grad_fn=<LogSoftmaxBackward0>)"
      ]
     },
     "execution_count": 47,
     "metadata": {},
     "output_type": "execute_result"
    }
   ],
   "source": [
    "y_hat"
   ]
  },
  {
   "cell_type": "code",
   "execution_count": 48,
   "metadata": {},
   "outputs": [],
   "source": [
    "def categoryFromOutput(output):\n",
    "    top_v, top_i = output.topk(1)\n",
    "    category_i = top_i.item()\n",
    "    category = all_categories[category_i]\n",
    "    return category, category_i"
   ]
  },
  {
   "cell_type": "code",
   "execution_count": 49,
   "metadata": {},
   "outputs": [],
   "source": [
    "import random\n",
    "\n",
    "def randomChoice(list):\n",
    "    return list[random.randint(0, len(list)-1)]\n",
    "\n",
    "def getTrainingExample():\n",
    "    category = randomChoice(all_categories)\n",
    "    line = randomChoice(category_lines[category])\n",
    "    category_tensor = torch.tensor([all_categories.index(category)], dtype=torch.long)\n",
    "    line_tensor = lineToTensor(line)\n",
    "    return category, line, category_tensor, line_tensor"
   ]
  },
  {
   "cell_type": "code",
   "execution_count": 50,
   "metadata": {},
   "outputs": [
    {
     "name": "stdout",
     "output_type": "stream",
     "text": [
      "Category: Arabic / Line: Koury / category tensor: tensor([13])\n",
      "Category: Scottish / Line: Whyte / category tensor: tensor([14])\n",
      "Category: English / Line: Burge / category tensor: tensor([2])\n",
      "Category: Irish / Line: Treasach / category tensor: tensor([3])\n",
      "Category: Czech / Line: Votke / category tensor: tensor([9])\n",
      "Category: French / Line: Forest / category tensor: tensor([11])\n",
      "Category: Irish / Line: Peatain / category tensor: tensor([3])\n",
      "Category: French / Line: Durant / category tensor: tensor([11])\n",
      "Category: Portuguese / Line: Santos / category tensor: tensor([15])\n",
      "Category: Greek / Line: Taflambas / category tensor: tensor([6])\n"
     ]
    }
   ],
   "source": [
    "for _ in range(10):\n",
    "    category, line, category_tensor, line_tensor = getTrainingExample()\n",
    "    print(f\"Category: {category} / Line: {line} / category tensor: {category_tensor}\")"
   ]
  },
  {
   "cell_type": "code",
   "execution_count": 51,
   "metadata": {},
   "outputs": [],
   "source": [
    "lr = 0.005\n",
    "model = RNNFromScratch(input_size=n_letters, hidden_size=n_hidden, output_size=n_categories)\n",
    "criterion = nn.NLLLoss()\n",
    "optimizer = torch.optim.Adam(model.parameters(), lr=lr)\n",
    "scheduler = torch.optim.lr_scheduler.StepLR(optimizer, step_size=2000, gamma=0.5)\n",
    "\n",
    "def train(line_tensor, category_tensor):\n",
    "    hidden = model.initHidden()\n",
    "    model.zero_grad()\n",
    "\n",
    "    for i in range(line_tensor.size()[0]):\n",
    "        output, hidden = model(line_tensor[i], hidden)\n",
    "    \n",
    "    loss = criterion(output, category_tensor)\n",
    "    loss.backward()\n",
    "\n",
    "    for p in model.parameters():\n",
    "        p.data.add_(p.grad.data, alpha=-lr)\n",
    "    \n",
    "    return output, loss.item() # number"
   ]
  },
  {
   "cell_type": "code",
   "execution_count": 52,
   "metadata": {},
   "outputs": [],
   "source": [
    "lr = 0.001\n",
    "model = RNNUsingModule(input_size=n_letters, hidden_size=n_hidden, output_size=n_categories)\n",
    "criterion = nn.CrossEntropyLoss()\n",
    "optimizer = torch.optim.Adam(model.parameters(), lr=lr)\n",
    "scheduler = torch.optim.lr_scheduler.StepLR(optimizer, step_size=2000, gamma=0.5)\n",
    "\n",
    "def train(line_tensor, category_tensor):\n",
    "    \n",
    "    hidden = model.initHidden()\n",
    "    model.zero_grad()\n",
    "\n",
    "    output = model(line_tensor, hidden)\n",
    "    \n",
    "    \n",
    "    loss = criterion(output, category_tensor)\n",
    "    loss.backward()\n",
    "    optimizer.step()\n",
    "    scheduler.step()\n",
    "    \n",
    "    return output, loss.item() # number"
   ]
  },
  {
   "attachments": {},
   "cell_type": "markdown",
   "metadata": {},
   "source": [
    "# Test batch size / sequence length / feature size"
   ]
  },
  {
   "cell_type": "code",
   "execution_count": 54,
   "metadata": {},
   "outputs": [],
   "source": [
    "category, line, category_tensor, line_tensor = getTrainingExample()\n"
   ]
  },
  {
   "cell_type": "code",
   "execution_count": 55,
   "metadata": {},
   "outputs": [
    {
     "data": {
      "text/plain": [
       "torch.Size([1, 18])"
      ]
     },
     "execution_count": 55,
     "metadata": {},
     "output_type": "execute_result"
    }
   ],
   "source": [
    "input = line_tensor.transpose(0, 1)\n",
    "rnn = nn.RNN(input_size=n_letters, hidden_size=n_hidden, batch_first=True)\n",
    "fc = nn.Linear(n_hidden, n_categories)\n",
    "bias = nn.Parameter(torch.ones([n_categories]))\n",
    "hidden = torch.zeros([1, 1, 128])\n",
    "output, hidden_ = rnn(input, hidden)\n",
    "output = output[:, -1, :]\n",
    "output.shape\n",
    "output2 = fc(output) + bias\n",
    "output2.shape"
   ]
  },
  {
   "cell_type": "code",
   "execution_count": 56,
   "metadata": {},
   "outputs": [
    {
     "name": "stdout",
     "output_type": "stream",
     "text": [
      "output: torch.Size([1, 18])\n",
      "target: torch.Size([1])\n"
     ]
    }
   ],
   "source": [
    "# \n",
    "size = line_tensor.size()\n",
    "input = line_tensor.transpose(0, 1)\n",
    "rnn = RNNUsingModule(input_size=n_letters, hidden_size=n_hidden, output_size=n_categories)\n",
    "hidden = rnn.initHidden()\n"
   ]
  },
  {
   "cell_type": "code",
   "execution_count": null,
   "metadata": {},
   "outputs": [],
   "source": [
    "output = rnn(input, hidden)\n",
    "print(f'output: {output.size()}')\n",
    "print(f\"target: {category_tensor.size()}\")\n"
   ]
  },
  {
   "attachments": {},
   "cell_type": "markdown",
   "metadata": {},
   "source": [
    "# Training"
   ]
  },
  {
   "cell_type": "code",
   "execution_count": 53,
   "metadata": {},
   "outputs": [],
   "source": [
    "import time\n",
    "import math\n",
    "\n",
    "epochs = 100000\n",
    "every_print = 5000\n",
    "every_plot = 1000\n",
    "\n",
    "def timeSince(since) -> string:\n",
    "    now = time.time()\n",
    "    duration = now - since\n",
    "    minute = math.floor(duration / 60)\n",
    "    sec = duration - minute * 60\n",
    "\n",
    "    return '{} : {}'.format(minute, math.floor(sec))\n"
   ]
  },
  {
   "cell_type": "code",
   "execution_count": 57,
   "metadata": {},
   "outputs": [
    {
     "name": "stdout",
     "output_type": "stream",
     "text": [
      "0 0% (0 : 0) 2.7742 Vargas / Spanish ✗ (Portuguese)\n",
      "5000 5% (0 : 10) 3.2442 Cerda / Portuguese ✗ (Czech)\n",
      "10000 10% (0 : 19) 1.4203 Mateus / Arabic ✗ (Portuguese)\n",
      "15000 15% (0 : 29) 1.7456 Unterbrink / Czech ✗ (German)\n",
      "20000 20% (0 : 40) 1.4722 Roijacker / German ✗ (Dutch)\n",
      "25000 25% (0 : 51) 0.5928 Kanaan / Arabic ✓\n",
      "30000 30% (1 : 0) 1.5495 Quraishi / Italian ✗ (Arabic)\n",
      "35000 35% (1 : 9) 2.5771 Mcneil / English ✗ (Irish)\n",
      "40000 40% (1 : 18) 0.5643 Khoury / Arabic ✓\n",
      "45000 45% (1 : 27) 1.2096 Rademakers / Dutch ✓\n",
      "50000 50% (1 : 36) 0.4064 Than / Vietnamese ✓\n",
      "55000 55% (1 : 45) 3.1287 Bazzi / Polish ✗ (Arabic)\n",
      "60000 60% (1 : 55) 0.1588 Adamczyk / Polish ✓\n",
      "65000 65% (2 : 4) 3.1359 Russell / German ✗ (Scottish)\n",
      "70000 70% (2 : 14) 1.8792 Borovsky / Russian ✗ (Czech)\n",
      "75000 75% (2 : 23) 0.6472 Zheng / Chinese ✓\n",
      "80000 80% (2 : 34) 2.0628 Spoerl / Dutch ✗ (Czech)\n",
      "85000 85% (2 : 46) 0.4339 Kouretas / Greek ✓\n",
      "90000 90% (2 : 58) 2.7106 Morcos / Greek ✗ (Arabic)\n",
      "95000 95% (3 : 9) 0.5535 Koo / Korean ✓\n",
      "100000 100% (3 : 18) 1.9718 Geldart / French ✗ (English)\n"
     ]
    }
   ],
   "source": [
    "all_losses = []\n",
    "current_loss = 0\n",
    "start = time.time()\n",
    "\n",
    "for epoch in range(epochs+1):\n",
    "    category, line, category_tensor, line_tensor = getTrainingExample()\n",
    "    line_tensor = line_tensor.transpose(0, 1)\n",
    "    output, loss = train(line_tensor, category_tensor)\n",
    "    current_loss += loss\n",
    "\n",
    "    if epoch % every_print == 0:\n",
    "        guess, guess_i = categoryFromOutput(output)\n",
    "        correct = '✓' if guess == category else '✗ (%s)' % category\n",
    "        print('%d %d%% (%s) %.4f %s / %s %s' % (epoch, epoch / epochs * 100, timeSince(start), loss, line, guess, correct))\n",
    "\n",
    "    if epoch % every_plot == 0:\n",
    "        all_losses.append(current_loss / every_plot)\n",
    "        current_loss = 0\n"
   ]
  },
  {
   "cell_type": "code",
   "execution_count": 58,
   "metadata": {},
   "outputs": [
    {
     "data": {
      "text/plain": [
       "[<matplotlib.lines.Line2D at 0x7f7d19aca3d0>]"
      ]
     },
     "execution_count": 58,
     "metadata": {},
     "output_type": "execute_result"
    },
    {
     "data": {
      "image/png": "[encoded data removed]",
      "text/plain": [
       "<Figure size 640x480 with 1 Axes>"
      ]
     },
     "metadata": {},
     "output_type": "display_data"
    }
   ],
   "source": [
    "import matplotlib.pyplot as plt\n",
    "import matplotlib.ticker as ticker\n",
    "\n",
    "plt.figure()\n",
    "plt.plot(all_losses[1:])"
   ]
  },
  {
   "cell_type": "code",
   "execution_count": 63,
   "metadata": {},
   "outputs": [
    {
     "name": "stderr",
     "output_type": "stream",
     "text": [
      "/tmp/ipykernel_5014/1895847313.py:34: UserWarning: FixedFormatter should only be used together with FixedLocator\n",
      "  ax.set_xticklabels([''] + all_categories, rotation=90)\n",
      "/tmp/ipykernel_5014/1895847313.py:35: UserWarning: FixedFormatter should only be used together with FixedLocator\n",
      "  ax.set_yticklabels([''] + all_categories)\n"
     ]
    },
    {
     "data": {
      "image/png": "[encoded data removed]",
      "text/plain": [
       "<Figure size 640x480 with 2 Axes>"
      ]
     },
     "metadata": {},
     "output_type": "display_data"
    }
   ],
   "source": [
    "# Keep track of correct guesses in a confusion matrix\n",
    "confusion = torch.zeros(n_categories, n_categories)\n",
    "n_confusion = 10000\n",
    "\n",
    "# Just return an output given a line\n",
    "def evaluate(line_tensor):\n",
    "    hidden = model.initHidden()\n",
    "    input = line_tensor.transpose(0, 1)\n",
    "    # for i in range(line_tensor.size()[0]):\n",
    "    #     output, hidden = rnn(line_tensor[i], hidden)\n",
    "    output = model(input, hidden)\n",
    "\n",
    "    return output\n",
    "\n",
    "# Go through a bunch of examples and record which are correctly guessed\n",
    "for i in range(n_confusion):\n",
    "    category, line, category_tensor, line_tensor = getTrainingExample()\n",
    "    output = evaluate(line_tensor)\n",
    "    guess, guess_i = categoryFromOutput(output)\n",
    "    category_i = all_categories.index(category)\n",
    "    confusion[category_i][guess_i] += 1\n",
    "\n",
    "# Normalize by dividing every row by its sum\n",
    "for i in range(n_categories):\n",
    "    confusion[i] = confusion[i] / confusion[i].sum()\n",
    "\n",
    "# Set up plot\n",
    "fig = plt.figure()\n",
    "ax = fig.add_subplot(111)\n",
    "cax = ax.matshow(confusion.numpy())\n",
    "fig.colorbar(cax)\n",
    "\n",
    "# Set up axes\n",
    "ax.set_xticklabels([''] + all_categories, rotation=90)\n",
    "ax.set_yticklabels([''] + all_categories)\n",
    "\n",
    "# Force label at every tick\n",
    "ax.xaxis.set_major_locator(ticker.MultipleLocator(1))\n",
    "ax.yaxis.set_major_locator(ticker.MultipleLocator(1))\n",
    "\n",
    "# sphinx_gallery_thumbnail_number = 2\n",
    "plt.show()"
   ]
  },
  {
   "cell_type": "code",
   "execution_count": 64,
   "metadata": {},
   "outputs": [
    {
     "name": "stdout",
     "output_type": "stream",
     "text": [
      "\n",
      "> Dovesky\n",
      "(5.08) Russian\n",
      "(4.32) Czech\n",
      "(4.01) Polish\n",
      "\n",
      "> Jackson\n",
      "(4.58) Scottish\n",
      "(3.58) Russian\n",
      "(3.49) English\n",
      "\n",
      "> Satoshi\n",
      "(4.50) Japanese\n",
      "(3.48) Italian\n",
      "(3.19) Arabic\n"
     ]
    }
   ],
   "source": [
    "def predict(input_line, n_predictions=3):\n",
    "    print('\\n> %s' % input_line)\n",
    "    with torch.no_grad():\n",
    "        output = evaluate(lineToTensor(input_line))\n",
    "\n",
    "        # Get top N categories\n",
    "        topv, topi = output.topk(n_predictions, 1, True)\n",
    "        predictions = []\n",
    "\n",
    "        for i in range(n_predictions):\n",
    "            value = topv[0][i].item()\n",
    "            category_index = topi[0][i].item()\n",
    "            print('(%.2f) %s' % (value, all_categories[category_index]))\n",
    "            predictions.append([value, all_categories[category_index]])\n",
    "\n",
    "predict('Dovesky')\n",
    "predict('Jackson')\n",
    "predict('Satoshi')"
   ]
  }
 ],
 "metadata": {
  "kernelspec": {
   "display_name": "ml-from-scratch",
   "language": "python",
   "name": "python3"
  },
  "language_info": {
   "codemirror_mode": {
    "name": "ipython",
    "version": 3
   },
   "file_extension": ".py",
   "mimetype": "text/x-python",
   "name": "python",
   "nbconvert_exporter": "python",
   "pygments_lexer": "ipython3",
   "version": "3.9.15"
  },
  "orig_nbformat": 4,
  "vscode": {
   "interpreter": {
    "hash": "a14a072c1d04b8e5231fb046f2e283cd5de3e391310c0d954d0cb96765eec511"
   }
  }
 },
 "nbformat": 4,
 "nbformat_minor": 2
}
